{
 "cells": [
  {
   "cell_type": "code",
   "execution_count": 58,
   "metadata": {},
   "outputs": [
    {
     "data": {
      "text/html": [
       "<div>\n",
       "<style scoped>\n",
       "    .dataframe tbody tr th:only-of-type {\n",
       "        vertical-align: middle;\n",
       "    }\n",
       "\n",
       "    .dataframe tbody tr th {\n",
       "        vertical-align: top;\n",
       "    }\n",
       "\n",
       "    .dataframe thead th {\n",
       "        text-align: right;\n",
       "    }\n",
       "</style>\n",
       "<table border=\"1\" class=\"dataframe\">\n",
       "  <thead>\n",
       "    <tr style=\"text-align: right;\">\n",
       "      <th></th>\n",
       "      <th>Unnamed: 0</th>\n",
       "      <th>title</th>\n",
       "      <th>text</th>\n",
       "      <th>label</th>\n",
       "    </tr>\n",
       "  </thead>\n",
       "  <tbody>\n",
       "    <tr>\n",
       "      <th>0</th>\n",
       "      <td>8476</td>\n",
       "      <td>You Can Smell Hillary’s Fear</td>\n",
       "      <td>Daniel Greenfield, a Shillman Journalism Fello...</td>\n",
       "      <td>FAKE</td>\n",
       "    </tr>\n",
       "    <tr>\n",
       "      <th>1</th>\n",
       "      <td>10294</td>\n",
       "      <td>Watch The Exact Moment Paul Ryan Committed Pol...</td>\n",
       "      <td>Google Pinterest Digg Linkedin Reddit Stumbleu...</td>\n",
       "      <td>FAKE</td>\n",
       "    </tr>\n",
       "    <tr>\n",
       "      <th>2</th>\n",
       "      <td>3608</td>\n",
       "      <td>Kerry to go to Paris in gesture of sympathy</td>\n",
       "      <td>U.S. Secretary of State John F. Kerry said Mon...</td>\n",
       "      <td>REAL</td>\n",
       "    </tr>\n",
       "    <tr>\n",
       "      <th>3</th>\n",
       "      <td>10142</td>\n",
       "      <td>Bernie supporters on Twitter erupt in anger ag...</td>\n",
       "      <td>— Kaydee King (@KaydeeKing) November 9, 2016 T...</td>\n",
       "      <td>FAKE</td>\n",
       "    </tr>\n",
       "    <tr>\n",
       "      <th>4</th>\n",
       "      <td>875</td>\n",
       "      <td>The Battle of New York: Why This Primary Matters</td>\n",
       "      <td>It's primary day in New York and front-runners...</td>\n",
       "      <td>REAL</td>\n",
       "    </tr>\n",
       "  </tbody>\n",
       "</table>\n",
       "</div>"
      ],
      "text/plain": [
       "   Unnamed: 0                                              title  \\\n",
       "0        8476                       You Can Smell Hillary’s Fear   \n",
       "1       10294  Watch The Exact Moment Paul Ryan Committed Pol...   \n",
       "2        3608        Kerry to go to Paris in gesture of sympathy   \n",
       "3       10142  Bernie supporters on Twitter erupt in anger ag...   \n",
       "4         875   The Battle of New York: Why This Primary Matters   \n",
       "\n",
       "                                                text label  \n",
       "0  Daniel Greenfield, a Shillman Journalism Fello...  FAKE  \n",
       "1  Google Pinterest Digg Linkedin Reddit Stumbleu...  FAKE  \n",
       "2  U.S. Secretary of State John F. Kerry said Mon...  REAL  \n",
       "3  — Kaydee King (@KaydeeKing) November 9, 2016 T...  FAKE  \n",
       "4  It's primary day in New York and front-runners...  REAL  "
      ]
     },
     "execution_count": 58,
     "metadata": {},
     "output_type": "execute_result"
    }
   ],
   "source": [
    "import numpy as np\n",
    "import pandas as pd\n",
    "import json\n",
    "import csv\n",
    "import random\n",
    "\n",
    "from tensorflow.keras.preprocessing.text import Tokenizer\n",
    "from tensorflow.keras.preprocessing.sequence import pad_sequences\n",
    "from tensorflow.keras.utils import to_categorical\n",
    "from tensorflow.keras import regularizers\n",
    "\n",
    "import pprint\n",
    "import tensorflow.compat.v1 as tf\n",
    "from tensorflow.python.framework import ops\n",
    "from sklearn.model_selection import train_test_split\n",
    "from sklearn import preprocessing\n",
    "tf.disable_eager_execution()\n",
    "\n",
    "\n",
    "data = pd.read_csv(\"data/news.csv\")\n",
    "data.head()\n"
   ]
  },
  {
   "cell_type": "markdown",
   "metadata": {},
   "source": [
    "## Data Preprocessing"
   ]
  },
  {
   "cell_type": "code",
   "execution_count": 59,
   "metadata": {},
   "outputs": [
    {
     "data": {
      "text/html": [
       "<div>\n",
       "<style scoped>\n",
       "    .dataframe tbody tr th:only-of-type {\n",
       "        vertical-align: middle;\n",
       "    }\n",
       "\n",
       "    .dataframe tbody tr th {\n",
       "        vertical-align: top;\n",
       "    }\n",
       "\n",
       "    .dataframe thead th {\n",
       "        text-align: right;\n",
       "    }\n",
       "</style>\n",
       "<table border=\"1\" class=\"dataframe\">\n",
       "  <thead>\n",
       "    <tr style=\"text-align: right;\">\n",
       "      <th></th>\n",
       "      <th>title</th>\n",
       "      <th>text</th>\n",
       "      <th>label</th>\n",
       "    </tr>\n",
       "  </thead>\n",
       "  <tbody>\n",
       "    <tr>\n",
       "      <th>0</th>\n",
       "      <td>You Can Smell Hillary’s Fear</td>\n",
       "      <td>Daniel Greenfield, a Shillman Journalism Fello...</td>\n",
       "      <td>FAKE</td>\n",
       "    </tr>\n",
       "    <tr>\n",
       "      <th>1</th>\n",
       "      <td>Watch The Exact Moment Paul Ryan Committed Pol...</td>\n",
       "      <td>Google Pinterest Digg Linkedin Reddit Stumbleu...</td>\n",
       "      <td>FAKE</td>\n",
       "    </tr>\n",
       "    <tr>\n",
       "      <th>2</th>\n",
       "      <td>Kerry to go to Paris in gesture of sympathy</td>\n",
       "      <td>U.S. Secretary of State John F. Kerry said Mon...</td>\n",
       "      <td>REAL</td>\n",
       "    </tr>\n",
       "    <tr>\n",
       "      <th>3</th>\n",
       "      <td>Bernie supporters on Twitter erupt in anger ag...</td>\n",
       "      <td>— Kaydee King (@KaydeeKing) November 9, 2016 T...</td>\n",
       "      <td>FAKE</td>\n",
       "    </tr>\n",
       "    <tr>\n",
       "      <th>4</th>\n",
       "      <td>The Battle of New York: Why This Primary Matters</td>\n",
       "      <td>It's primary day in New York and front-runners...</td>\n",
       "      <td>REAL</td>\n",
       "    </tr>\n",
       "  </tbody>\n",
       "</table>\n",
       "</div>"
      ],
      "text/plain": [
       "                                               title  \\\n",
       "0                       You Can Smell Hillary’s Fear   \n",
       "1  Watch The Exact Moment Paul Ryan Committed Pol...   \n",
       "2        Kerry to go to Paris in gesture of sympathy   \n",
       "3  Bernie supporters on Twitter erupt in anger ag...   \n",
       "4   The Battle of New York: Why This Primary Matters   \n",
       "\n",
       "                                                text label  \n",
       "0  Daniel Greenfield, a Shillman Journalism Fello...  FAKE  \n",
       "1  Google Pinterest Digg Linkedin Reddit Stumbleu...  FAKE  \n",
       "2  U.S. Secretary of State John F. Kerry said Mon...  REAL  \n",
       "3  — Kaydee King (@KaydeeKing) November 9, 2016 T...  FAKE  \n",
       "4  It's primary day in New York and front-runners...  REAL  "
      ]
     },
     "execution_count": 59,
     "metadata": {},
     "output_type": "execute_result"
    }
   ],
   "source": [
    "data = data.drop([\"Unnamed: 0\"], axis=1)\n",
    "data.head(5)"
   ]
  },
  {
   "cell_type": "code",
   "execution_count": 60,
   "metadata": {},
   "outputs": [],
   "source": [
    "# encoding the labels\n",
    "le = preprocessing.LabelEncoder()\n",
    "le.fit(data['label'])\n",
    "data['label'] = le.transform(data['label'])\n"
   ]
  },
  {
   "cell_type": "code",
   "execution_count": 61,
   "metadata": {},
   "outputs": [],
   "source": [
    "embedding_dim = 50\n",
    "max_length = 54\n",
    "trunc_type = 'post'\n",
    "padding_type = 'post'\n",
    "oov_tok = \"<OOV>\"\n",
    "training_size = 3000\n",
    "test_portion = .1\n"
   ]
  },
  {
   "cell_type": "markdown",
   "metadata": {},
   "source": [
    "### Tokenization"
   ]
  },
  {
   "cell_type": "code",
   "execution_count": 62,
   "metadata": {},
   "outputs": [],
   "source": [
    "title = []\n",
    "text = []\n",
    "labels = []\n",
    "for x in range(training_size):\n",
    "    title.append(data['title'][x])\n",
    "    text.append(data['text'][x])\n",
    "    labels.append(data['label'][x])\n"
   ]
  },
  {
   "cell_type": "code",
   "execution_count": 63,
   "metadata": {},
   "outputs": [],
   "source": [
    "tokenizer1 = Tokenizer()\n",
    "tokenizer1.fit_on_texts(title)\n",
    "word_index1 = tokenizer1.word_index\n",
    "vocab_size1 = len(word_index1) + 1\n",
    "sequences1 = tokenizer1.texts_to_sequences(title)\n",
    "padded1 = pad_sequences(\n",
    "    sequences1,  padding=padding_type, truncating=trunc_type)\n",
    "split = int(test_portion * training_size)\n",
    "training_sequences1 = padded1[split:training_size]\n",
    "test_sequences1 = padded1[0:split]\n",
    "test_labels = labels[0:split]\n",
    "training_labels = labels[split:training_size]"
   ]
  },
  {
   "cell_type": "markdown",
   "metadata": {},
   "source": [
    "### Generating Word Embedding"
   ]
  },
  {
   "cell_type": "code",
   "execution_count": 64,
   "metadata": {},
   "outputs": [],
   "source": [
    "embeddings_index = {}\n",
    "with open('glove.6B/glove.6B.50d.txt', encoding='utf8') as f:  # Fixed encoding\n",
    "    for line in f:\n",
    "        values = line.split()\n",
    "        word = values[0]\n",
    "        coefs = np.asarray(values[1:], dtype='float32')\n",
    "        embeddings_index[word] = coefs\n",
    "\n",
    "# Generating embeddings\n",
    "embeddings_matrix = np.zeros((vocab_size1 + 1, embedding_dim))\n",
    "for word, i in word_index1.items():\n",
    "    embedding_vector = embeddings_index.get(word)\n",
    "    if embedding_vector is not None:\n",
    "        embeddings_matrix[i] = embedding_vector\n"
   ]
  },
  {
   "cell_type": "markdown",
   "metadata": {},
   "source": [
    "## Creating Model Architecture"
   ]
  },
  {
   "cell_type": "code",
   "execution_count": 65,
   "metadata": {},
   "outputs": [
    {
     "name": "stdout",
     "output_type": "stream",
     "text": [
      "Model: \"sequential_7\"\n",
      "_________________________________________________________________\n",
      " Layer (type)                Output Shape              Param #   \n",
      "=================================================================\n",
      " embedding_7 (Embedding)     (None, 54, 50)            377650    \n",
      "                                                                 \n",
      " dropout_7 (Dropout)         (None, 54, 50)            0         \n",
      "                                                                 \n",
      " conv1d_7 (Conv1D)           (None, 50, 64)            16064     \n",
      "                                                                 \n",
      " max_pooling1d_7 (MaxPoolin  (None, 12, 64)            0         \n",
      " g1D)                                                            \n",
      "                                                                 \n",
      " lstm_7 (LSTM)               (None, 64)                33024     \n",
      "                                                                 \n",
      " dense_7 (Dense)             (None, 1)                 65        \n",
      "                                                                 \n",
      "=================================================================\n",
      "Total params: 426803 (1.63 MB)\n",
      "Trainable params: 49153 (192.00 KB)\n",
      "Non-trainable params: 377650 (1.44 MB)\n",
      "_________________________________________________________________\n"
     ]
    }
   ],
   "source": [
    "model = tf.keras.Sequential([\n",
    "    tf.keras.layers.Embedding(vocab_size1+1, embedding_dim,\n",
    "                              input_length=max_length, weights=[\n",
    "                                  embeddings_matrix],\n",
    "                              trainable=False),\n",
    "    tf.keras.layers.Dropout(0.2),\n",
    "    tf.keras.layers.Conv1D(64, 5, activation='relu'),\n",
    "    tf.keras.layers.MaxPooling1D(pool_size=4),\n",
    "    tf.keras.layers.LSTM(64),\n",
    "    tf.keras.layers.Dense(1, activation='sigmoid')\n",
    "])\n",
    "model.compile(loss='binary_crossentropy',\n",
    "              optimizer='adam', metrics=['accuracy'])\n",
    "model.summary()\n"
   ]
  },
  {
   "cell_type": "code",
   "execution_count": 66,
   "metadata": {},
   "outputs": [
    {
     "name": "stdout",
     "output_type": "stream",
     "text": [
      "Train on 2700 samples, validate on 300 samples\n",
      "Epoch 1/50\n"
     ]
    },
    {
     "name": "stderr",
     "output_type": "stream",
     "text": [
      "c:\\Users\\Mayank Jaiswal\\AppData\\Local\\Programs\\Python\\Python311\\Lib\\site-packages\\keras\\src\\engine\\training_v1.py:2335: UserWarning: `Model.state_updates` will be removed in a future version. This property should not be used in TensorFlow 2.0, as `updates` are applied automatically.\n",
      "  updates = self.state_updates\n"
     ]
    },
    {
     "name": "stdout",
     "output_type": "stream",
     "text": [
      "2700/2700 - 2s - loss: 0.6464 - accuracy: 0.6252 - val_loss: 0.5579 - val_accuracy: 0.6933 - 2s/epoch - 792us/sample\n",
      "Epoch 2/50\n",
      "2700/2700 - 1s - loss: 0.5808 - accuracy: 0.6967 - val_loss: 0.5197 - val_accuracy: 0.7200 - 598ms/epoch - 221us/sample\n",
      "Epoch 3/50\n",
      "2700/2700 - 1s - loss: 0.5319 - accuracy: 0.7333 - val_loss: 0.5009 - val_accuracy: 0.7400 - 609ms/epoch - 226us/sample\n",
      "Epoch 4/50\n",
      "2700/2700 - 1s - loss: 0.4939 - accuracy: 0.7641 - val_loss: 0.5032 - val_accuracy: 0.7467 - 633ms/epoch - 234us/sample\n",
      "Epoch 5/50\n",
      "2700/2700 - 1s - loss: 0.4420 - accuracy: 0.7870 - val_loss: 0.4864 - val_accuracy: 0.7267 - 641ms/epoch - 238us/sample\n",
      "Epoch 6/50\n",
      "2700/2700 - 1s - loss: 0.4093 - accuracy: 0.8089 - val_loss: 0.5006 - val_accuracy: 0.7467 - 633ms/epoch - 234us/sample\n",
      "Epoch 7/50\n",
      "2700/2700 - 1s - loss: 0.3603 - accuracy: 0.8419 - val_loss: 0.4808 - val_accuracy: 0.7867 - 705ms/epoch - 261us/sample\n",
      "Epoch 8/50\n",
      "2700/2700 - 1s - loss: 0.3419 - accuracy: 0.8504 - val_loss: 0.4704 - val_accuracy: 0.7533 - 668ms/epoch - 247us/sample\n",
      "Epoch 9/50\n",
      "2700/2700 - 1s - loss: 0.3076 - accuracy: 0.8693 - val_loss: 0.4703 - val_accuracy: 0.7500 - 621ms/epoch - 230us/sample\n",
      "Epoch 10/50\n",
      "2700/2700 - 1s - loss: 0.2746 - accuracy: 0.8852 - val_loss: 0.6008 - val_accuracy: 0.7300 - 633ms/epoch - 234us/sample\n",
      "Epoch 11/50\n",
      "2700/2700 - 1s - loss: 0.2418 - accuracy: 0.9026 - val_loss: 0.5303 - val_accuracy: 0.7767 - 660ms/epoch - 245us/sample\n",
      "Epoch 12/50\n",
      "2700/2700 - 1s - loss: 0.2260 - accuracy: 0.9096 - val_loss: 0.4568 - val_accuracy: 0.7700 - 621ms/epoch - 230us/sample\n",
      "Epoch 13/50\n",
      "2700/2700 - 1s - loss: 0.2113 - accuracy: 0.9178 - val_loss: 0.5629 - val_accuracy: 0.7567 - 608ms/epoch - 225us/sample\n",
      "Epoch 14/50\n",
      "2700/2700 - 1s - loss: 0.1890 - accuracy: 0.9278 - val_loss: 0.7087 - val_accuracy: 0.7367 - 628ms/epoch - 233us/sample\n",
      "Epoch 15/50\n",
      "2700/2700 - 1s - loss: 0.2078 - accuracy: 0.9152 - val_loss: 0.5945 - val_accuracy: 0.7467 - 666ms/epoch - 247us/sample\n",
      "Epoch 16/50\n",
      "2700/2700 - 1s - loss: 0.1877 - accuracy: 0.9248 - val_loss: 0.5247 - val_accuracy: 0.7967 - 614ms/epoch - 227us/sample\n",
      "Epoch 17/50\n",
      "2700/2700 - 1s - loss: 0.1507 - accuracy: 0.9422 - val_loss: 0.6421 - val_accuracy: 0.7567 - 605ms/epoch - 224us/sample\n",
      "Epoch 18/50\n",
      "2700/2700 - 1s - loss: 0.1814 - accuracy: 0.9263 - val_loss: 0.5853 - val_accuracy: 0.7600 - 605ms/epoch - 224us/sample\n",
      "Epoch 19/50\n",
      "2700/2700 - 1s - loss: 0.1287 - accuracy: 0.9489 - val_loss: 0.7025 - val_accuracy: 0.7800 - 613ms/epoch - 227us/sample\n",
      "Epoch 20/50\n",
      "2700/2700 - 1s - loss: 0.1779 - accuracy: 0.9285 - val_loss: 0.8280 - val_accuracy: 0.7300 - 611ms/epoch - 226us/sample\n",
      "Epoch 21/50\n",
      "2700/2700 - 1s - loss: 0.1490 - accuracy: 0.9456 - val_loss: 0.5965 - val_accuracy: 0.7633 - 613ms/epoch - 227us/sample\n",
      "Epoch 22/50\n",
      "2700/2700 - 1s - loss: 0.1266 - accuracy: 0.9474 - val_loss: 0.6371 - val_accuracy: 0.7667 - 684ms/epoch - 253us/sample\n",
      "Epoch 23/50\n",
      "2700/2700 - 1s - loss: 0.1204 - accuracy: 0.9530 - val_loss: 0.6737 - val_accuracy: 0.7333 - 692ms/epoch - 256us/sample\n",
      "Epoch 24/50\n",
      "2700/2700 - 1s - loss: 0.1169 - accuracy: 0.9537 - val_loss: 0.6373 - val_accuracy: 0.7833 - 637ms/epoch - 236us/sample\n",
      "Epoch 25/50\n",
      "2700/2700 - 1s - loss: 0.1027 - accuracy: 0.9648 - val_loss: 0.7310 - val_accuracy: 0.7533 - 620ms/epoch - 230us/sample\n",
      "Epoch 26/50\n",
      "2700/2700 - 1s - loss: 0.1163 - accuracy: 0.9559 - val_loss: 0.8030 - val_accuracy: 0.7467 - 685ms/epoch - 254us/sample\n",
      "Epoch 27/50\n",
      "2700/2700 - 1s - loss: 0.1023 - accuracy: 0.9563 - val_loss: 0.8299 - val_accuracy: 0.7567 - 733ms/epoch - 271us/sample\n",
      "Epoch 28/50\n",
      "2700/2700 - 1s - loss: 0.1016 - accuracy: 0.9622 - val_loss: 0.7050 - val_accuracy: 0.7733 - 662ms/epoch - 245us/sample\n",
      "Epoch 29/50\n",
      "2700/2700 - 1s - loss: 0.0944 - accuracy: 0.9622 - val_loss: 0.8175 - val_accuracy: 0.7433 - 617ms/epoch - 229us/sample\n",
      "Epoch 30/50\n",
      "2700/2700 - 1s - loss: 0.1234 - accuracy: 0.9519 - val_loss: 0.6837 - val_accuracy: 0.7567 - 629ms/epoch - 233us/sample\n",
      "Epoch 31/50\n",
      "2700/2700 - 1s - loss: 0.0736 - accuracy: 0.9756 - val_loss: 0.8851 - val_accuracy: 0.7500 - 668ms/epoch - 248us/sample\n",
      "Epoch 32/50\n",
      "2700/2700 - 1s - loss: 0.0975 - accuracy: 0.9685 - val_loss: 0.7029 - val_accuracy: 0.7700 - 626ms/epoch - 232us/sample\n",
      "Epoch 33/50\n",
      "2700/2700 - 1s - loss: 0.0827 - accuracy: 0.9667 - val_loss: 0.9351 - val_accuracy: 0.7733 - 615ms/epoch - 228us/sample\n",
      "Epoch 34/50\n",
      "2700/2700 - 1s - loss: 0.0706 - accuracy: 0.9767 - val_loss: 0.8203 - val_accuracy: 0.7500 - 667ms/epoch - 247us/sample\n",
      "Epoch 35/50\n",
      "2700/2700 - 1s - loss: 0.0744 - accuracy: 0.9700 - val_loss: 0.8463 - val_accuracy: 0.7600 - 628ms/epoch - 233us/sample\n",
      "Epoch 36/50\n",
      "2700/2700 - 1s - loss: 0.0692 - accuracy: 0.9730 - val_loss: 0.7431 - val_accuracy: 0.8000 - 605ms/epoch - 224us/sample\n",
      "Epoch 37/50\n",
      "2700/2700 - 1s - loss: 0.0756 - accuracy: 0.9722 - val_loss: 0.9742 - val_accuracy: 0.7533 - 630ms/epoch - 233us/sample\n",
      "Epoch 38/50\n",
      "2700/2700 - 1s - loss: 0.1090 - accuracy: 0.9626 - val_loss: 0.7041 - val_accuracy: 0.7900 - 689ms/epoch - 255us/sample\n",
      "Epoch 39/50\n",
      "2700/2700 - 1s - loss: 0.0790 - accuracy: 0.9719 - val_loss: 0.6924 - val_accuracy: 0.7767 - 713ms/epoch - 264us/sample\n",
      "Epoch 40/50\n",
      "2700/2700 - 1s - loss: 0.0683 - accuracy: 0.9748 - val_loss: 0.7823 - val_accuracy: 0.7833 - 672ms/epoch - 249us/sample\n",
      "Epoch 41/50\n",
      "2700/2700 - 1s - loss: 0.0610 - accuracy: 0.9781 - val_loss: 0.9174 - val_accuracy: 0.7833 - 668ms/epoch - 247us/sample\n",
      "Epoch 42/50\n",
      "2700/2700 - 1s - loss: 0.0719 - accuracy: 0.9770 - val_loss: 0.8503 - val_accuracy: 0.7600 - 636ms/epoch - 236us/sample\n",
      "Epoch 43/50\n",
      "2700/2700 - 1s - loss: 0.0575 - accuracy: 0.9752 - val_loss: 0.9243 - val_accuracy: 0.7500 - 642ms/epoch - 238us/sample\n",
      "Epoch 44/50\n",
      "2700/2700 - 1s - loss: 0.0650 - accuracy: 0.9774 - val_loss: 0.9009 - val_accuracy: 0.7200 - 675ms/epoch - 250us/sample\n",
      "Epoch 45/50\n",
      "2700/2700 - 1s - loss: 0.0654 - accuracy: 0.9767 - val_loss: 0.9425 - val_accuracy: 0.7600 - 625ms/epoch - 232us/sample\n",
      "Epoch 46/50\n",
      "2700/2700 - 1s - loss: 0.0608 - accuracy: 0.9793 - val_loss: 0.9643 - val_accuracy: 0.7300 - 629ms/epoch - 233us/sample\n",
      "Epoch 47/50\n",
      "2700/2700 - 1s - loss: 0.0806 - accuracy: 0.9711 - val_loss: 0.7612 - val_accuracy: 0.7667 - 627ms/epoch - 232us/sample\n",
      "Epoch 48/50\n",
      "2700/2700 - 1s - loss: 0.0550 - accuracy: 0.9781 - val_loss: 1.1204 - val_accuracy: 0.7900 - 632ms/epoch - 234us/sample\n",
      "Epoch 49/50\n",
      "2700/2700 - 1s - loss: 0.0708 - accuracy: 0.9722 - val_loss: 1.0848 - val_accuracy: 0.7500 - 622ms/epoch - 230us/sample\n",
      "Epoch 50/50\n",
      "2700/2700 - 1s - loss: 0.0569 - accuracy: 0.9789 - val_loss: 0.7363 - val_accuracy: 0.7600 - 620ms/epoch - 230us/sample\n"
     ]
    }
   ],
   "source": [
    "num_epochs = 50\n",
    "\n",
    "training_padded = np.array(training_sequences1)\n",
    "training_labels = np.array(training_labels)\n",
    "testing_padded = np.array(test_sequences1)\n",
    "testing_labels = np.array(test_labels)\n",
    "\n",
    "history = model.fit(training_padded, training_labels,\n",
    "                    epochs=num_epochs,\n",
    "                    validation_data=(testing_padded,\n",
    "                                     testing_labels),\n",
    "                    verbose=2)\n"
   ]
  },
  {
   "cell_type": "code",
   "execution_count": 71,
   "metadata": {},
   "outputs": [
    {
     "name": "stdout",
     "output_type": "stream",
     "text": [
      "This news is false\n"
     ]
    }
   ],
   "source": [
    "# sample text to check if fake or not\n",
    "X = \"Will the Media Reset After the Election or Are We Stuck With This Tabloid Stuff?\"\n",
    "\n",
    "# detection\n",
    "sequences = tokenizer1.texts_to_sequences([X])[0]\n",
    "sequences = pad_sequences([sequences], maxlen=54,\n",
    "                          padding=padding_type,\n",
    "                          truncating=trunc_type)\n",
    "if(model.predict(sequences, verbose=0)[0][0] >= 0.5):\n",
    "    print(\"This news is True\")\n",
    "else:\n",
    "    print(\"This news is false\")\n"
   ]
  },
  {
   "cell_type": "code",
   "execution_count": null,
   "metadata": {},
   "outputs": [],
   "source": []
  },
  {
   "cell_type": "code",
   "execution_count": null,
   "metadata": {},
   "outputs": [],
   "source": []
  },
  {
   "cell_type": "code",
   "execution_count": null,
   "metadata": {},
   "outputs": [],
   "source": []
  }
 ],
 "metadata": {
  "kernelspec": {
   "display_name": "Python 3",
   "language": "python",
   "name": "python3"
  },
  "language_info": {
   "codemirror_mode": {
    "name": "ipython",
    "version": 3
   },
   "file_extension": ".py",
   "mimetype": "text/x-python",
   "name": "python",
   "nbconvert_exporter": "python",
   "pygments_lexer": "ipython3",
   "version": "3.11.2"
  }
 },
 "nbformat": 4,
 "nbformat_minor": 2
}
